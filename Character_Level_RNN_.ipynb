{
  "nbformat": 4,
  "nbformat_minor": 0,
  "metadata": {
    "colab": {
      "name": "Character_Level_RNN_.ipynb",
      "version": "0.3.2",
      "provenance": [],
      "include_colab_link": true
    },
    "kernelspec": {
      "name": "python3",
      "display_name": "Python 3"
    },
    "accelerator": "GPU"
  },
  "cells": [
    {
      "cell_type": "markdown",
      "metadata": {
        "id": "view-in-github",
        "colab_type": "text"
      },
      "source": [
        "<a href=\"https://colab.research.google.com/github/Coder-Nikita/Character_Level_RNN/blob/master/Character_Level_RNN_.ipynb\" target=\"_parent\"><img src=\"https://colab.research.google.com/assets/colab-badge.svg\" alt=\"Open In Colab\"/></a>"
      ]
    },
    {
      "metadata": {
        "id": "_XYhQGdAK7F7",
        "colab_type": "text"
      },
      "cell_type": "markdown",
      "source": [
        "# Character-Level LSTM in PyTorch\n",
        "\n",
        "In this notebook, I'll construct a character-level LSTM with PyTorch. The network will train character by character on some text, then generate new text character by character. As an example, I will train on Anna Karenina. **This model will be able to generate new text based on the text from the book!**\n",
        "\n",
        "This network is based off of Andrej Karpathy's [post on RNNs](http://karpathy.github.io/2015/05/21/rnn-effectiveness/) and [implementation in Torch](https://github.com/karpathy/char-rnn). Below is the general architecture of the character-wise RNN.\n",
        "\n",
        "<img src=\"https://github.com/udacity/deep-learning-v2-pytorch/blob/master/recurrent-neural-networks/char-rnn/assets/charseq.jpeg?raw=1\" width=\"500\">"
      ]
    },
    {
      "metadata": {
        "id": "gcdoRgjcK7F_",
        "colab_type": "text"
      },
      "cell_type": "markdown",
      "source": [
        "First let's load in our required resources for data loading and model creation."
      ]
    },
    {
      "metadata": {
        "id": "JiWHv7eTK7GB",
        "colab_type": "code",
        "colab": {
          "base_uri": "https://localhost:8080/",
          "height": 54
        },
        "outputId": "74447c88-0eea-49a0-d7a8-1dabaa756335"
      },
      "cell_type": "code",
      "source": [
        "# http://pytorch.org/\n",
        "from os.path import exists\n",
        "from wheel.pep425tags import get_abbr_impl, get_impl_ver, get_abi_tag\n",
        "platform = '{}{}-{}'.format(get_abbr_impl(), get_impl_ver(), get_abi_tag())\n",
        "cuda_output = !ldconfig -p|grep cudart.so|sed -e 's/.*\\.\\([0-9]*\\)\\.\\([0-9]*\\)$/cu\\1\\2/'\n",
        "accelerator = cuda_output[0] if exists('/dev/nvidia0') else 'cpu'\n",
        "\n",
        "!pip install -q http://download.pytorch.org/whl/{accelerator}/torch-0.4.1-{platform}-linux_x86_64.whl torchvision\n",
        "import numpy as np\n",
        "import torch\n",
        "from torch import nn\n",
        "import torch.nn.functional as F"
      ],
      "execution_count": 1,
      "outputs": [
        {
          "output_type": "stream",
          "text": [
            "tcmalloc: large alloc 1073750016 bytes == 0x57b7e000 @  0x7f6f3238b2a4 0x591a07 0x5b5d56 0x502e9a 0x506859 0x502209 0x502f3d 0x506859 0x504c28 0x502540 0x502f3d 0x506859 0x504c28 0x502540 0x502f3d 0x506859 0x504c28 0x502540 0x502f3d 0x507641 0x502209 0x502f3d 0x506859 0x504c28 0x502540 0x502f3d 0x507641 0x504c28 0x502540 0x502f3d 0x507641\n"
          ],
          "name": "stdout"
        }
      ]
    },
    {
      "metadata": {
        "id": "M3cY9mH3K7GI",
        "colab_type": "text"
      },
      "cell_type": "markdown",
      "source": [
        "## Load in Data\n",
        "\n",
        "Then, we'll load the Anna Karenina text file and convert it into integers for our network to use. "
      ]
    },
    {
      "metadata": {
        "id": "-MIy-DoTK7GK",
        "colab_type": "code",
        "colab": {}
      },
      "cell_type": "code",
      "source": [
        "# open text file and read in data as `text`\n",
        "f= open(\"Anna_Karenina_NT.txt\", \"r\")\n",
        "text = f.read()  "
      ],
      "execution_count": 0,
      "outputs": []
    },
    {
      "metadata": {
        "id": "qMHuP1FvK7GQ",
        "colab_type": "text"
      },
      "cell_type": "markdown",
      "source": [
        "Let's check out the first 100 characters, make sure everything is peachy. According to the [American Book Review](http://americanbookreview.org/100bestlines.asp), this is the 6th best first line of a book ever."
      ]
    },
    {
      "metadata": {
        "id": "-NaenC6KK7GR",
        "colab_type": "code",
        "colab": {
          "base_uri": "https://localhost:8080/",
          "height": 54
        },
        "outputId": "ac768b3b-1349-48aa-ff16-108be9595a22"
      },
      "cell_type": "code",
      "source": [
        "text[:100]"
      ],
      "execution_count": 6,
      "outputs": [
        {
          "output_type": "execute_result",
          "data": {
            "text/plain": [
              "'Anna Karenina\\nLeo Tolstoy\\nTranslated by Constance Garnett\\n\\nThis eBook is designed and published by P'"
            ]
          },
          "metadata": {
            "tags": []
          },
          "execution_count": 6
        }
      ]
    },
    {
      "metadata": {
        "id": "TEzfLPAtK7GX",
        "colab_type": "text"
      },
      "cell_type": "markdown",
      "source": [
        "### Tokenization\n",
        "\n",
        "In the cells, below, I'm creating a couple **dictionaries** to convert the characters to and from integers. Encoding the characters as integers makes it easier to use as input in the network."
      ]
    },
    {
      "metadata": {
        "id": "k2XxxvudK7GY",
        "colab_type": "code",
        "colab": {}
      },
      "cell_type": "code",
      "source": [
        "# encode the text and map each character to an integer and vice versa\n",
        "\n",
        "# we create two dictionaries:\n",
        "# 1. int2char, which maps integers to characters\n",
        "# 2. char2int, which maps characters to unique integers\n",
        "chars = tuple(set(text))\n",
        "int2char = dict(enumerate(chars))\n",
        "char2int = {ch: ii for ii, ch in int2char.items()}\n",
        "\n",
        "# encode the text\n",
        "encoded = np.array([char2int[ch] for ch in text])"
      ],
      "execution_count": 0,
      "outputs": []
    },
    {
      "metadata": {
        "id": "3HPbCBCyK7Ge",
        "colab_type": "text"
      },
      "cell_type": "markdown",
      "source": [
        "And we can see those same characters from above, encoded as integers."
      ]
    },
    {
      "metadata": {
        "id": "x6zMCQ2NK7Gf",
        "colab_type": "code",
        "colab": {
          "base_uri": "https://localhost:8080/",
          "height": 119
        },
        "outputId": "95f440a7-743c-46be-ea6c-cec543537d6a"
      },
      "cell_type": "code",
      "source": [
        "encoded[:100]"
      ],
      "execution_count": 9,
      "outputs": [
        {
          "output_type": "execute_result",
          "data": {
            "text/plain": [
              "array([ 4,  3,  3, 74, 10,  6, 74, 42,  1,  3, 15,  3, 74, 16, 30,  1, 23,\n",
              "       10, 26, 23, 67, 27, 55, 23, 11, 16, 26, 42, 74,  3, 27, 67, 74, 55,\n",
              "        1, 28, 10, 20, 11, 10, 22, 23,  3, 27, 55, 74,  3, 13,  1, 10, 12,\n",
              "       74, 42,  3,  1, 55, 55, 16, 16, 26, 54, 15, 27, 10,  1, 25, 23, 23,\n",
              "       78, 10, 15, 27, 10, 28,  1, 27, 15, 48,  3,  1, 28, 10, 74,  3, 28,\n",
              "       10, 45, 68, 20, 67, 15, 27, 54,  1, 28, 10, 20, 11, 10, 75])"
            ]
          },
          "metadata": {
            "tags": []
          },
          "execution_count": 9
        }
      ]
    },
    {
      "metadata": {
        "id": "BeOpjwgbK7Gl",
        "colab_type": "text"
      },
      "cell_type": "markdown",
      "source": [
        "## Pre-processing the data\n",
        "\n",
        "As you can see in our char-RNN image above, our LSTM expects an input that is **one-hot encoded** meaning that each character is converted into an integer (via our created dictionary) and *then* converted into a column vector where only it's corresponding integer index will have the value of 1 and the rest of the vector will be filled with 0's. Since we're one-hot encoding the data, let's make a function to do that!\n"
      ]
    },
    {
      "metadata": {
        "id": "JJsbLRbxK7Go",
        "colab_type": "code",
        "colab": {}
      },
      "cell_type": "code",
      "source": [
        "def one_hot_encode(arr, n_labels):\n",
        "    \n",
        "    # Initialize the the encoded array\n",
        "    one_hot = np.zeros((np.multiply(*arr.shape), n_labels), dtype=np.float32)\n",
        "    \n",
        "    # Fill the appropriate elements with ones\n",
        "    one_hot[np.arange(one_hot.shape[0]), arr.flatten()] = 1.\n",
        "    \n",
        "    # Finally reshape it to get back to the original array\n",
        "    one_hot = one_hot.reshape((*arr.shape, n_labels))\n",
        "    \n",
        "    return one_hot"
      ],
      "execution_count": 0,
      "outputs": []
    },
    {
      "metadata": {
        "id": "P9WQlEWjK7Gu",
        "colab_type": "code",
        "colab": {
          "base_uri": "https://localhost:8080/",
          "height": 68
        },
        "outputId": "472cd027-ee58-4d46-d380-6ca0ca5d9725"
      },
      "cell_type": "code",
      "source": [
        "# check that the function works as expected\n",
        "test_seq = np.array([[3, 5, 1]])\n",
        "one_hot = one_hot_encode(test_seq, 8)\n",
        "\n",
        "print(one_hot)"
      ],
      "execution_count": 12,
      "outputs": [
        {
          "output_type": "stream",
          "text": [
            "[[[0. 0. 0. 1. 0. 0. 0. 0.]\n",
            "  [0. 0. 0. 0. 0. 1. 0. 0.]\n",
            "  [0. 1. 0. 0. 0. 0. 0. 0.]]]\n"
          ],
          "name": "stdout"
        }
      ]
    },
    {
      "metadata": {
        "id": "2wPxpGvSK7G0",
        "colab_type": "text"
      },
      "cell_type": "markdown",
      "source": [
        "## Making training mini-batches\n",
        "\n",
        "\n",
        "To train on this data, we also want to create mini-batches for training. Remember that we want our batches to be multiple sequences of some desired number of sequence steps. Considering a simple example, our batches would look like this:\n",
        "\n",
        "<img src=\"https://github.com/udacity/deep-learning-v2-pytorch/blob/master/recurrent-neural-networks/char-rnn/assets/sequence_batching@1x.png?raw=1\" width=500px>\n",
        "\n",
        "\n",
        "<br>\n",
        "\n",
        "In this example, we'll take the encoded characters (passed in as the `arr` parameter) and split them into multiple sequences, given by `batch_size`. Each of our sequences will be `seq_length` long.\n",
        "\n",
        "### Creating Batches\n",
        "\n",
        "**1. The first thing we need to do is discard some of the text so we only have completely full mini-batches. **\n",
        "\n",
        "Each batch contains $N \\times M$ characters, where $N$ is the batch size (the number of sequences in a batch) and $M$ is the seq_length or number of time steps in a sequence. Then, to get the total number of batches, $K$, that we can make from the array `arr`, you divide the length of `arr` by the number of characters per batch. Once you know the number of batches, you can get the total number of characters to keep from `arr`, $N * M * K$.\n",
        "\n",
        "**2. After that, we need to split `arr` into $N$ batches. ** \n",
        "\n",
        "You can do this using `arr.reshape(size)` where `size` is a tuple containing the dimensions sizes of the reshaped array. We know we want $N$ sequences in a batch, so let's make that the size of the first dimension. For the second dimension, you can use `-1` as a placeholder in the size, it'll fill up the array with the appropriate data for you. After this, you should have an array that is $N \\times (M * K)$.\n",
        "\n",
        "**3. Now that we have this array, we can iterate through it to get our mini-batches. **\n",
        "\n",
        "The idea is each batch is a $N \\times M$ window on the $N \\times (M * K)$ array. For each subsequent batch, the window moves over by `seq_length`. We also want to create both the input and target arrays. Remember that the targets are just the inputs shifted over by one character. The way I like to do this window is use `range` to take steps of size `n_steps` from $0$ to `arr.shape[1]`, the total number of tokens in each sequence. That way, the integers you get from `range` always point to the start of a batch, and each window is `seq_length` wide.\n",
        "\n",
        "> **TODO:** Write the code for creating batches in the function below. The exercises in this notebook _will not be easy_. I've provided a notebook with solutions alongside this notebook. If you get stuck, checkout the solutions. The most important thing is that you don't copy and paste the code into here, **type out the solution code yourself.**"
      ]
    },
    {
      "metadata": {
        "id": "wDMtjTbYK7G2",
        "colab_type": "code",
        "colab": {}
      },
      "cell_type": "code",
      "source": [
        "def get_batches(arr, batch_size, seq_length):\n",
        "    '''Create a generator that returns batches of size\n",
        "       batch_size x seq_length from arr.\n",
        "       \n",
        "       Arguments\n",
        "       ---------\n",
        "       arr: Array you want to make batches from\n",
        "       batch_size: Batch size, the number of sequences per batch\n",
        "       seq_length: Number of encoded chars in a sequence\n",
        "    '''\n",
        "    batch_size_total= batch_size* seq_length\n",
        "    \n",
        "    ## TODO: Get the number of batches we can make\n",
        "    n_batches =len(arr)//batch_size_total \n",
        "    \n",
        "    ## TODO: Keep only enough characters to make full batches\n",
        "    arr = arr[:n_batches*batch_size_total]\n",
        "    \n",
        "    ## TODO: Reshape into batch_size rows\n",
        "    arr = arr.reshape((batch_size,-1))\n",
        "    \n",
        "    ## TODO: Iterate over the batches using a window of size seq_length\n",
        "    for n in range(0, arr.shape[1], seq_length):\n",
        "        # The features\n",
        "        x = arr[:, n:n+seq_length]\n",
        "        # The targets, shifted by one\n",
        "        y = np.zeros_like(x)\n",
        "        try:\n",
        "          y[:,:-1],y[:,-1]=x[:,1:],arr[:,n+seq_length]\n",
        "        except IndexError:\n",
        "          y[:,:-1],y[:,-1]=x[:,1:],arr[:,0]\n",
        "        yield x, y"
      ],
      "execution_count": 0,
      "outputs": []
    },
    {
      "metadata": {
        "id": "4ErWWQdkK7G7",
        "colab_type": "text"
      },
      "cell_type": "markdown",
      "source": [
        "### Test Your Implementation\n",
        "\n",
        "Now I'll make some data sets and we can check out what's going on as we batch data. Here, as an example, I'm going to use a batch size of 8 and 50 sequence steps."
      ]
    },
    {
      "metadata": {
        "id": "e730HsYUK7G8",
        "colab_type": "code",
        "colab": {}
      },
      "cell_type": "code",
      "source": [
        "batches = get_batches(encoded, 8, 50)\n",
        "x, y = next(batches)"
      ],
      "execution_count": 0,
      "outputs": []
    },
    {
      "metadata": {
        "id": "vUug2NaiK7HB",
        "colab_type": "code",
        "outputId": "4b3d6dbb-f846-49a1-8f74-77c0223f7992",
        "colab": {
          "base_uri": "https://localhost:8080/",
          "height": 340
        }
      },
      "cell_type": "code",
      "source": [
        "# printing out the first 10 items in a sequence\n",
        "print('x\\n', x[:10, :10])\n",
        "print('\\ny\\n', y[:10, :10])"
      ],
      "execution_count": 15,
      "outputs": [
        {
          "output_type": "stream",
          "text": [
            "x\n",
            " [[ 4  3  3 74 10  6 74 42  1  3]\n",
            " [ 1 10 28  1 67 15 48 54 55 10]\n",
            " [74 13  1 27 24 40 10 54  1 10]\n",
            " [74 55 10 54  1 10  3  1  1 28]\n",
            " [42  1 13 55 67 11 10 27 54  1]\n",
            " [77 15 42 27 55 10 55 52 23 10]\n",
            " [42 15 49  1 28 69 10 26 54  1]\n",
            " [52 54  1 42  1 10 54 15 27 10]]\n",
            "\n",
            "y\n",
            " [[ 3  3 74 10  6 74 42  1  3 15]\n",
            " [10 28  1 67 15 48 54 55 10 74]\n",
            " [13  1 27 24 40 10 54  1 10 74]\n",
            " [55 10 54  1 10  3  1  1 28  1]\n",
            " [ 1 13 55 67 11 10 27 54  1 10]\n",
            " [15 42 27 55 10 55 52 23 10 28]\n",
            " [15 49  1 28 69 10 26 54  1 42]\n",
            " [54  1 42  1 10 54 15 27 10 54]]\n"
          ],
          "name": "stdout"
        }
      ]
    },
    {
      "metadata": {
        "id": "pd6pbzJVK7HG",
        "colab_type": "text"
      },
      "cell_type": "markdown",
      "source": [
        "If you implemented `get_batches` correctly, the above output should look something like \n",
        "```\n",
        "x\n",
        " [[25  8 60 11 45 27 28 73  1  2]\n",
        " [17  7 20 73 45  8 60 45 73 60]\n",
        " [27 20 80 73  7 28 73 60 73 65]\n",
        " [17 73 45  8 27 73 66  8 46 27]\n",
        " [73 17 60 12 73  8 27 28 73 45]\n",
        " [66 64 17 17 46  7 20 73 60 20]\n",
        " [73 76 20 20 60 73  8 60 80 73]\n",
        " [47 35 43  7 20 17 24 50 37 73]]\n",
        "\n",
        "y\n",
        " [[ 8 60 11 45 27 28 73  1  2  2]\n",
        " [ 7 20 73 45  8 60 45 73 60 45]\n",
        " [20 80 73  7 28 73 60 73 65  7]\n",
        " [73 45  8 27 73 66  8 46 27 65]\n",
        " [17 60 12 73  8 27 28 73 45 27]\n",
        " [64 17 17 46  7 20 73 60 20 80]\n",
        " [76 20 20 60 73  8 60 80 73 17]\n",
        " [35 43  7 20 17 24 50 37 73 36]]\n",
        " ```\n",
        " although the exact numbers may be different. Check to make sure the data is shifted over one step for `y`."
      ]
    },
    {
      "metadata": {
        "id": "wZeBmbPNK7HH",
        "colab_type": "text"
      },
      "cell_type": "markdown",
      "source": [
        "---\n",
        "## Defining the network with PyTorch\n",
        "\n",
        "Below is where you'll define the network.\n",
        "\n",
        "<img src=\"https://github.com/udacity/deep-learning-v2-pytorch/blob/master/recurrent-neural-networks/char-rnn/assets/charRNN.png?raw=1\" width=500px>\n",
        "\n",
        "Next, you'll use PyTorch to define the architecture of the network. We start by defining the layers and operations we want. Then, define a method for the forward pass. You've also been given a method for predicting characters."
      ]
    },
    {
      "metadata": {
        "id": "EoANk-3iK7HJ",
        "colab_type": "text"
      },
      "cell_type": "markdown",
      "source": [
        "### Model Structure\n",
        "\n",
        "In `__init__` the suggested structure is as follows:\n",
        "* Create and store the necessary dictionaries (this has been done for you)\n",
        "* Define an LSTM layer that takes as params: an input size (the number of characters), a hidden layer size `n_hidden`, a number of layers `n_layers`, a dropout probability `drop_prob`, and a batch_first boolean (True, since we are batching)\n",
        "* Define a dropout layer with `dropout_prob`\n",
        "* Define a fully-connected layer with params: input size `n_hidden` and output size (the number of characters)\n",
        "* Finally, initialize the weights (again, this has been given)\n",
        "\n",
        "Note that some parameters have been named and given in the `__init__` function, and we use them and store them by doing something like `self.drop_prob = drop_prob`."
      ]
    },
    {
      "metadata": {
        "id": "-wLodKJnK7HL",
        "colab_type": "text"
      },
      "cell_type": "markdown",
      "source": [
        "---\n",
        "### LSTM Inputs/Outputs\n",
        "\n",
        "You can create a basic [LSTM layer](https://pytorch.org/docs/stable/nn.html#lstm) as follows\n",
        "\n",
        "```python\n",
        "self.lstm = nn.LSTM(input_size, n_hidden, n_layers, \n",
        "                            dropout=drop_prob, batch_first=True)\n",
        "```\n",
        "\n",
        "where `input_size` is the number of characters this cell expects to see as sequential input, and `n_hidden` is the number of units in the hidden layers in the cell. And we can add dropout by adding a dropout parameter with a specified probability; this will automatically add dropout to the inputs or outputs. Finally, in the `forward` function, we can stack up the LSTM cells into layers using `.view`. With this, you pass in a list of cells and it will send the output of one cell into the next cell.\n",
        "\n",
        "We also need to create an initial hidden state of all zeros. This is done like so\n",
        "\n",
        "```python\n",
        "self.init_hidden()\n",
        "```"
      ]
    },
    {
      "metadata": {
        "id": "SwNgAUJJK7HM",
        "colab_type": "code",
        "outputId": "8db23df2-8980-4bb6-f66c-a86a68ce9ac4",
        "colab": {
          "base_uri": "https://localhost:8080/",
          "height": 34
        }
      },
      "cell_type": "code",
      "source": [
        "# check if GPU is available\n",
        "train_on_gpu = torch.cuda.is_available()\n",
        "if(train_on_gpu):\n",
        "    print('Training on GPU!')\n",
        "else: \n",
        "    print('No GPU available, training on CPU; consider making n_epochs very small.')"
      ],
      "execution_count": 16,
      "outputs": [
        {
          "output_type": "stream",
          "text": [
            "Training on GPU!\n"
          ],
          "name": "stdout"
        }
      ]
    },
    {
      "metadata": {
        "id": "9WD4VtbNK7HS",
        "colab_type": "code",
        "colab": {}
      },
      "cell_type": "code",
      "source": [
        "class CharRNN(nn.Module):\n",
        "    \n",
        "    def __init__(self, tokens, n_hidden=256, n_layers=2,\n",
        "                               drop_prob=0.5, lr=0.001):\n",
        "        super().__init__()\n",
        "        self.drop_prob = drop_prob\n",
        "        self.n_layers = n_layers\n",
        "        self.n_hidden = n_hidden\n",
        "        self.lr = lr\n",
        "        \n",
        "        # creating character dictionaries\n",
        "        self.chars = tokens\n",
        "        self.int2char = dict(enumerate(self.chars))\n",
        "        self.char2int = {ch: ii for ii, ch in self.int2char.items()}\n",
        "        \n",
        "        ## TODO: define the layers of the model\n",
        "        self.lstm= nn.LSTM(len(self.chars), n_hidden, n_layers,\n",
        "                          dropout= drop_prob, batch_first=True)\n",
        "        self.dropout = nn.Dropout(drop_prob)\n",
        "        self.fc=nn.Linear(n_hidden,len(self.chars))\n",
        "      \n",
        "    \n",
        "    def forward(self, x, hidden):\n",
        "        ''' Forward pass through the network. \n",
        "            These inputs are x, and the hidden/cell state `hidden`. '''\n",
        "        r_output, hidden= self.lstm(x,hidden)\n",
        "        out= self.dropout(r_output)\n",
        "        out = out.contiguous().view(-1, self.n_hidden)        \n",
        "        ## TODO: Get the outputs and the new hidden state from the lstm\n",
        "        out=self.fc(out)\n",
        "        # return the final output and the hidden state\n",
        "        return out, hidden\n",
        "    \n",
        "    \n",
        "    def init_hidden(self, batch_size):\n",
        "        ''' Initializes hidden state '''\n",
        "        # Create two new tensors with sizes n_layers x batch_size x n_hidden,\n",
        "        # initialized to zero, for hidden state and cell state of LSTM\n",
        "        weight = next(self.parameters()).data\n",
        "        \n",
        "        if (train_on_gpu):\n",
        "            hidden = (weight.new(self.n_layers, batch_size, self.n_hidden).zero_().cuda(),\n",
        "                  weight.new(self.n_layers, batch_size, self.n_hidden).zero_().cuda())\n",
        "        else:\n",
        "            hidden = (weight.new(self.n_layers, batch_size, self.n_hidden).zero_(),\n",
        "                      weight.new(self.n_layers, batch_size, self.n_hidden).zero_())\n",
        "        \n",
        "        return hidden\n",
        "        "
      ],
      "execution_count": 0,
      "outputs": []
    },
    {
      "metadata": {
        "id": "GIOeoZFuK7HY",
        "colab_type": "text"
      },
      "cell_type": "markdown",
      "source": [
        "## Time to train\n",
        "\n",
        "The train function gives us the ability to set the number of epochs, the learning rate, and other parameters.\n",
        "\n",
        "Below we're using an Adam optimizer and cross entropy loss since we are looking at character class scores as output. We calculate the loss and perform backpropagation, as usual!\n",
        "\n",
        "A couple of details about training: \n",
        ">* Within the batch loop, we detach the hidden state from its history; this time setting it equal to a new *tuple* variable because an LSTM has a hidden state that is a tuple of the hidden and cell states.\n",
        "* We use [`clip_grad_norm_`](https://pytorch.org/docs/stable/_modules/torch/nn/utils/clip_grad.html) to help prevent exploding gradients."
      ]
    },
    {
      "metadata": {
        "id": "ARQuvXJBK7Ha",
        "colab_type": "code",
        "colab": {}
      },
      "cell_type": "code",
      "source": [
        "def train(net, data, epochs=10, batch_size=10, seq_length=50, lr=0.001, clip=5, val_frac=0.1, print_every=10):\n",
        "    ''' Training a network \n",
        "    \n",
        "        Arguments\n",
        "        ---------\n",
        "        \n",
        "        net: CharRNN network\n",
        "        data: text data to train the network\n",
        "        epochs: Number of epochs to train\n",
        "        batch_size: Number of mini-sequences per mini-batch, aka batch size\n",
        "        seq_length: Number of character steps per mini-batch\n",
        "        lr: learning rate\n",
        "        clip: gradient clipping\n",
        "        val_frac: Fraction of data to hold out for validation\n",
        "        print_every: Number of steps for printing training and validation loss\n",
        "    \n",
        "    '''\n",
        "    net.train()\n",
        "    \n",
        "    opt = torch.optim.Adam(net.parameters(), lr=lr)\n",
        "    criterion = nn.CrossEntropyLoss()\n",
        "    \n",
        "    # create training and validation data\n",
        "    val_idx = int(len(data)*(1-val_frac))\n",
        "    data, val_data = data[:val_idx], data[val_idx:]\n",
        "    \n",
        "    if(train_on_gpu):\n",
        "        net.cuda()\n",
        "    \n",
        "    counter = 0\n",
        "    n_chars = len(net.chars)\n",
        "    for e in range(epochs):\n",
        "        # initialize hidden state\n",
        "        h = net.init_hidden(batch_size)\n",
        "        \n",
        "        for x, y in get_batches(data, batch_size, seq_length):\n",
        "            counter += 1\n",
        "            \n",
        "            # One-hot encode our data and make them Torch tensors\n",
        "            x = one_hot_encode(x, n_chars)\n",
        "            inputs, targets = torch.from_numpy(x), torch.from_numpy(y)\n",
        "            \n",
        "            if(train_on_gpu):\n",
        "                inputs, targets = inputs.cuda(), targets.cuda()\n",
        "\n",
        "            # Creating new variables for the hidden state, otherwise\n",
        "            # we'd backprop through the entire training history\n",
        "            h = tuple([each.data for each in h])\n",
        "\n",
        "            # zero accumulated gradients\n",
        "            net.zero_grad()\n",
        "            \n",
        "            # get the output from the model\n",
        "            output, h = net(inputs, h)\n",
        "            \n",
        "            # calculate the loss and perform backprop\n",
        "            loss = criterion(output, targets.view(batch_size*seq_length))\n",
        "            loss.backward()\n",
        "            # `clip_grad_norm` helps prevent the exploding gradient problem in RNNs / LSTMs.\n",
        "            nn.utils.clip_grad_norm_(net.parameters(), clip)\n",
        "            opt.step()\n",
        "            \n",
        "            # loss stats\n",
        "            if counter % print_every == 0:\n",
        "                # Get validation loss\n",
        "                val_h = net.init_hidden(batch_size)\n",
        "                val_losses = []\n",
        "                net.eval()\n",
        "                for x, y in get_batches(val_data, batch_size, seq_length):\n",
        "                    # One-hot encode our data and make them Torch tensors\n",
        "                    x = one_hot_encode(x, n_chars)\n",
        "                    x, y = torch.from_numpy(x), torch.from_numpy(y)\n",
        "                    \n",
        "                    # Creating new variables for the hidden state, otherwise\n",
        "                    # we'd backprop through the entire training history\n",
        "                    val_h = tuple([each.data for each in val_h])\n",
        "                    \n",
        "                    inputs, targets = x, y\n",
        "                    if(train_on_gpu):\n",
        "                        inputs, targets = inputs.cuda(), targets.cuda()\n",
        "\n",
        "                    output, val_h = net(inputs, val_h)\n",
        "                    val_loss = criterion(output, targets.view(batch_size*seq_length))\n",
        "                \n",
        "                    val_losses.append(val_loss.item())\n",
        "                \n",
        "                net.train() # reset to train mode after iterationg through validation data\n",
        "                \n",
        "                print(\"Epoch: {}/{}...\".format(e+1, epochs),\n",
        "                      \"Step: {}...\".format(counter),\n",
        "                      \"Loss: {:.4f}...\".format(loss.item()),\n",
        "                      \"Val Loss: {:.4f}\".format(np.mean(val_losses)))"
      ],
      "execution_count": 0,
      "outputs": []
    },
    {
      "metadata": {
        "id": "oh2QWj-1K7Hh",
        "colab_type": "text"
      },
      "cell_type": "markdown",
      "source": [
        "## Instantiating the model\n",
        "\n",
        "Now we can actually train the network. First we'll create the network itself, with some given hyperparameters. Then, define the mini-batches sizes, and start training!"
      ]
    },
    {
      "metadata": {
        "id": "20MdJjZhK7Hk",
        "colab_type": "code",
        "outputId": "6781287b-7fdb-4a36-d321-98a6f15f7f9b",
        "colab": {
          "base_uri": "https://localhost:8080/",
          "height": 102
        }
      },
      "cell_type": "code",
      "source": [
        "## TODO: set you model hyperparameters\n",
        "# define and print the net\n",
        "n_hidden=512\n",
        "n_layers=2\n",
        "\n",
        "net = CharRNN(chars, n_hidden, n_layers)\n",
        "print(net)"
      ],
      "execution_count": 27,
      "outputs": [
        {
          "output_type": "stream",
          "text": [
            "CharRNN(\n",
            "  (lstm): LSTM(83, 512, num_layers=2, batch_first=True, dropout=0.5)\n",
            "  (dropout): Dropout(p=0.5)\n",
            "  (fc): Linear(in_features=512, out_features=83, bias=True)\n",
            ")\n"
          ],
          "name": "stdout"
        }
      ]
    },
    {
      "metadata": {
        "id": "v08luamWK7Hv",
        "colab_type": "text"
      },
      "cell_type": "markdown",
      "source": [
        "### Set your training hyperparameters!"
      ]
    },
    {
      "metadata": {
        "scrolled": true,
        "id": "WABbGkUtK7Hw",
        "colab_type": "code",
        "colab": {
          "base_uri": "https://localhost:8080/",
          "height": 4811
        },
        "outputId": "3d85f1ed-0200-45cb-fb0e-16bc599356cd"
      },
      "cell_type": "code",
      "source": [
        "batch_size = 128\n",
        "seq_length = 100\n",
        "n_epochs =20  # start small if you are just testing initial behavior\n",
        "\n",
        "# train the model\n",
        "train(net, encoded, epochs=n_epochs, batch_size=batch_size, seq_length=seq_length, lr=0.001, print_every=10)"
      ],
      "execution_count": 28,
      "outputs": [
        {
          "output_type": "stream",
          "text": [
            "Epoch: 1/20... Step: 10... Loss: 3.2648... Val Loss: 3.1960\n",
            "Epoch: 1/20... Step: 20... Loss: 3.1985... Val Loss: 3.1515\n",
            "Epoch: 1/20... Step: 30... Loss: 3.1386... Val Loss: 3.1410\n",
            "Epoch: 1/20... Step: 40... Loss: 3.1680... Val Loss: 3.1385\n",
            "Epoch: 1/20... Step: 50... Loss: 3.1655... Val Loss: 3.1345\n",
            "Epoch: 1/20... Step: 60... Loss: 3.1668... Val Loss: 3.1309\n",
            "Epoch: 1/20... Step: 70... Loss: 3.1418... Val Loss: 3.1208\n",
            "Epoch: 1/20... Step: 80... Loss: 3.1639... Val Loss: 3.1327\n",
            "Epoch: 1/20... Step: 90... Loss: 3.1564... Val Loss: 3.1115\n",
            "Epoch: 1/20... Step: 100... Loss: 3.1490... Val Loss: 3.0873\n",
            "Epoch: 1/20... Step: 110... Loss: 3.0958... Val Loss: 3.0546\n",
            "Epoch: 1/20... Step: 120... Loss: 3.0521... Val Loss: 3.0034\n",
            "Epoch: 1/20... Step: 130... Loss: 2.9727... Val Loss: 2.9305\n",
            "Epoch: 1/20... Step: 140... Loss: 2.8818... Val Loss: 2.8512\n",
            "Epoch: 2/20... Step: 150... Loss: 2.8122... Val Loss: 2.7803\n",
            "Epoch: 2/20... Step: 160... Loss: 2.7644... Val Loss: 2.7116\n",
            "Epoch: 2/20... Step: 170... Loss: 2.6710... Val Loss: 2.6212\n",
            "Epoch: 2/20... Step: 180... Loss: 2.6064... Val Loss: 2.5660\n",
            "Epoch: 2/20... Step: 190... Loss: 2.5658... Val Loss: 2.5002\n",
            "Epoch: 2/20... Step: 200... Loss: 2.5438... Val Loss: 2.4577\n",
            "Epoch: 2/20... Step: 210... Loss: 2.4816... Val Loss: 2.4309\n",
            "Epoch: 2/20... Step: 220... Loss: 2.4607... Val Loss: 2.3942\n",
            "Epoch: 2/20... Step: 230... Loss: 2.4574... Val Loss: 2.3722\n",
            "Epoch: 2/20... Step: 240... Loss: 2.4111... Val Loss: 2.3515\n",
            "Epoch: 2/20... Step: 250... Loss: 2.4107... Val Loss: 2.3279\n",
            "Epoch: 2/20... Step: 260... Loss: 2.3714... Val Loss: 2.3057\n",
            "Epoch: 2/20... Step: 270... Loss: 2.3478... Val Loss: 2.2856\n",
            "Epoch: 2/20... Step: 280... Loss: 2.3547... Val Loss: 2.2666\n",
            "Epoch: 3/20... Step: 290... Loss: 2.3150... Val Loss: 2.2507\n",
            "Epoch: 3/20... Step: 300... Loss: 2.3169... Val Loss: 2.2255\n",
            "Epoch: 3/20... Step: 310... Loss: 2.2868... Val Loss: 2.2143\n",
            "Epoch: 3/20... Step: 320... Loss: 2.2772... Val Loss: 2.1902\n",
            "Epoch: 3/20... Step: 330... Loss: 2.2577... Val Loss: 2.1716\n",
            "Epoch: 3/20... Step: 340... Loss: 2.2523... Val Loss: 2.1524\n",
            "Epoch: 3/20... Step: 350... Loss: 2.1883... Val Loss: 2.1389\n",
            "Epoch: 3/20... Step: 360... Loss: 2.1677... Val Loss: 2.1212\n",
            "Epoch: 3/20... Step: 370... Loss: 2.1685... Val Loss: 2.1091\n",
            "Epoch: 3/20... Step: 380... Loss: 2.2033... Val Loss: 2.0932\n",
            "Epoch: 3/20... Step: 390... Loss: 2.1493... Val Loss: 2.0768\n",
            "Epoch: 3/20... Step: 400... Loss: 2.1375... Val Loss: 2.0617\n",
            "Epoch: 3/20... Step: 410... Loss: 2.1146... Val Loss: 2.0450\n",
            "Epoch: 3/20... Step: 420... Loss: 2.1332... Val Loss: 2.0349\n",
            "Epoch: 4/20... Step: 430... Loss: 2.0801... Val Loss: 2.0237\n",
            "Epoch: 4/20... Step: 440... Loss: 2.0367... Val Loss: 2.0101\n",
            "Epoch: 4/20... Step: 450... Loss: 2.0383... Val Loss: 1.9965\n",
            "Epoch: 4/20... Step: 460... Loss: 2.0741... Val Loss: 1.9822\n",
            "Epoch: 4/20... Step: 470... Loss: 2.0751... Val Loss: 1.9670\n",
            "Epoch: 4/20... Step: 480... Loss: 2.0615... Val Loss: 1.9511\n",
            "Epoch: 4/20... Step: 490... Loss: 2.0190... Val Loss: 1.9424\n",
            "Epoch: 4/20... Step: 500... Loss: 2.0060... Val Loss: 1.9280\n",
            "Epoch: 4/20... Step: 510... Loss: 1.9895... Val Loss: 1.9158\n",
            "Epoch: 4/20... Step: 520... Loss: 1.9938... Val Loss: 1.9086\n",
            "Epoch: 4/20... Step: 530... Loss: 1.9725... Val Loss: 1.8997\n",
            "Epoch: 4/20... Step: 540... Loss: 2.0122... Val Loss: 1.8886\n",
            "Epoch: 4/20... Step: 550... Loss: 1.9626... Val Loss: 1.8755\n",
            "Epoch: 4/20... Step: 560... Loss: 1.9648... Val Loss: 1.8650\n",
            "Epoch: 5/20... Step: 570... Loss: 1.9522... Val Loss: 1.8530\n",
            "Epoch: 5/20... Step: 580... Loss: 1.9182... Val Loss: 1.8425\n",
            "Epoch: 5/20... Step: 590... Loss: 1.9233... Val Loss: 1.8351\n",
            "Epoch: 5/20... Step: 600... Loss: 1.9155... Val Loss: 1.8280\n",
            "Epoch: 5/20... Step: 610... Loss: 1.9442... Val Loss: 1.8153\n",
            "Epoch: 5/20... Step: 620... Loss: 1.8647... Val Loss: 1.8030\n",
            "Epoch: 5/20... Step: 630... Loss: 1.8352... Val Loss: 1.7958\n",
            "Epoch: 5/20... Step: 640... Loss: 1.8716... Val Loss: 1.7892\n",
            "Epoch: 5/20... Step: 650... Loss: 1.8738... Val Loss: 1.7807\n",
            "Epoch: 5/20... Step: 660... Loss: 1.8539... Val Loss: 1.7684\n",
            "Epoch: 5/20... Step: 670... Loss: 1.8602... Val Loss: 1.7614\n",
            "Epoch: 5/20... Step: 680... Loss: 1.8482... Val Loss: 1.7513\n",
            "Epoch: 5/20... Step: 690... Loss: 1.8345... Val Loss: 1.7452\n",
            "Epoch: 5/20... Step: 700... Loss: 1.8364... Val Loss: 1.7323\n",
            "Epoch: 6/20... Step: 710... Loss: 1.7951... Val Loss: 1.7253\n",
            "Epoch: 6/20... Step: 720... Loss: 1.7871... Val Loss: 1.7254\n",
            "Epoch: 6/20... Step: 730... Loss: 1.7946... Val Loss: 1.7094\n",
            "Epoch: 6/20... Step: 740... Loss: 1.7823... Val Loss: 1.7013\n",
            "Epoch: 6/20... Step: 750... Loss: 1.7643... Val Loss: 1.6954\n",
            "Epoch: 6/20... Step: 760... Loss: 1.7774... Val Loss: 1.6874\n",
            "Epoch: 6/20... Step: 770... Loss: 1.7490... Val Loss: 1.6825\n",
            "Epoch: 6/20... Step: 780... Loss: 1.7838... Val Loss: 1.6749\n",
            "Epoch: 6/20... Step: 790... Loss: 1.7560... Val Loss: 1.6671\n",
            "Epoch: 6/20... Step: 800... Loss: 1.7393... Val Loss: 1.6610\n",
            "Epoch: 6/20... Step: 810... Loss: 1.7590... Val Loss: 1.6517\n",
            "Epoch: 6/20... Step: 820... Loss: 1.7274... Val Loss: 1.6448\n",
            "Epoch: 6/20... Step: 830... Loss: 1.7684... Val Loss: 1.6429\n",
            "Epoch: 6/20... Step: 840... Loss: 1.6970... Val Loss: 1.6334\n",
            "Epoch: 7/20... Step: 850... Loss: 1.6850... Val Loss: 1.6294\n",
            "Epoch: 7/20... Step: 860... Loss: 1.7411... Val Loss: 1.6262\n",
            "Epoch: 7/20... Step: 870... Loss: 1.7174... Val Loss: 1.6174\n",
            "Epoch: 7/20... Step: 880... Loss: 1.7152... Val Loss: 1.6115\n",
            "Epoch: 7/20... Step: 890... Loss: 1.6979... Val Loss: 1.6094\n",
            "Epoch: 7/20... Step: 900... Loss: 1.6859... Val Loss: 1.6012\n",
            "Epoch: 7/20... Step: 910... Loss: 1.6634... Val Loss: 1.5971\n",
            "Epoch: 7/20... Step: 920... Loss: 1.6858... Val Loss: 1.5905\n",
            "Epoch: 7/20... Step: 930... Loss: 1.6820... Val Loss: 1.5850\n",
            "Epoch: 7/20... Step: 940... Loss: 1.6937... Val Loss: 1.5800\n",
            "Epoch: 7/20... Step: 950... Loss: 1.6473... Val Loss: 1.5744\n",
            "Epoch: 7/20... Step: 960... Loss: 1.6610... Val Loss: 1.5694\n",
            "Epoch: 7/20... Step: 970... Loss: 1.6098... Val Loss: 1.5645\n",
            "Epoch: 7/20... Step: 980... Loss: 1.6653... Val Loss: 1.5601\n",
            "Epoch: 8/20... Step: 990... Loss: 1.6595... Val Loss: 1.5567\n",
            "Epoch: 8/20... Step: 1000... Loss: 1.6267... Val Loss: 1.5510\n",
            "Epoch: 8/20... Step: 1010... Loss: 1.6466... Val Loss: 1.5485\n",
            "Epoch: 8/20... Step: 1020... Loss: 1.6449... Val Loss: 1.5424\n",
            "Epoch: 8/20... Step: 1030... Loss: 1.6367... Val Loss: 1.5382\n",
            "Epoch: 8/20... Step: 1040... Loss: 1.6258... Val Loss: 1.5325\n",
            "Epoch: 8/20... Step: 1050... Loss: 1.5819... Val Loss: 1.5277\n",
            "Epoch: 8/20... Step: 1060... Loss: 1.6124... Val Loss: 1.5238\n",
            "Epoch: 8/20... Step: 1070... Loss: 1.6077... Val Loss: 1.5185\n",
            "Epoch: 8/20... Step: 1080... Loss: 1.6028... Val Loss: 1.5132\n",
            "Epoch: 8/20... Step: 1090... Loss: 1.6082... Val Loss: 1.5101\n",
            "Epoch: 8/20... Step: 1100... Loss: 1.6001... Val Loss: 1.5065\n",
            "Epoch: 8/20... Step: 1110... Loss: 1.5792... Val Loss: 1.5057\n",
            "Epoch: 8/20... Step: 1120... Loss: 1.6028... Val Loss: 1.4990\n",
            "Epoch: 9/20... Step: 1130... Loss: 1.6250... Val Loss: 1.4921\n",
            "Epoch: 9/20... Step: 1140... Loss: 1.5901... Val Loss: 1.4885\n",
            "Epoch: 9/20... Step: 1150... Loss: 1.5648... Val Loss: 1.4881\n",
            "Epoch: 9/20... Step: 1160... Loss: 1.6051... Val Loss: 1.4849\n",
            "Epoch: 9/20... Step: 1170... Loss: 1.5927... Val Loss: 1.4810\n",
            "Epoch: 9/20... Step: 1180... Loss: 1.5398... Val Loss: 1.4770\n",
            "Epoch: 9/20... Step: 1190... Loss: 1.5513... Val Loss: 1.4788\n",
            "Epoch: 9/20... Step: 1200... Loss: 1.5513... Val Loss: 1.4689\n",
            "Epoch: 9/20... Step: 1210... Loss: 1.5362... Val Loss: 1.4667\n",
            "Epoch: 9/20... Step: 1220... Loss: 1.5449... Val Loss: 1.4611\n",
            "Epoch: 9/20... Step: 1230... Loss: 1.5769... Val Loss: 1.4559\n",
            "Epoch: 9/20... Step: 1240... Loss: 1.5530... Val Loss: 1.4472\n",
            "Epoch: 9/20... Step: 1250... Loss: 1.5600... Val Loss: 1.4466\n",
            "Epoch: 9/20... Step: 1260... Loss: 1.5174... Val Loss: 1.4438\n",
            "Epoch: 10/20... Step: 1270... Loss: 1.6276... Val Loss: 1.4387\n",
            "Epoch: 10/20... Step: 1280... Loss: 1.5158... Val Loss: 1.4344\n",
            "Epoch: 10/20... Step: 1290... Loss: 1.5445... Val Loss: 1.4337\n",
            "Epoch: 10/20... Step: 1300... Loss: 1.5317... Val Loss: 1.4333\n",
            "Epoch: 10/20... Step: 1310... Loss: 1.5350... Val Loss: 1.4273\n",
            "Epoch: 10/20... Step: 1320... Loss: 1.5215... Val Loss: 1.4231\n",
            "Epoch: 10/20... Step: 1330... Loss: 1.5070... Val Loss: 1.4171\n",
            "Epoch: 10/20... Step: 1340... Loss: 1.5361... Val Loss: 1.4181\n",
            "Epoch: 10/20... Step: 1350... Loss: 1.5271... Val Loss: 1.4135\n",
            "Epoch: 10/20... Step: 1360... Loss: 1.5072... Val Loss: 1.4094\n",
            "Epoch: 10/20... Step: 1370... Loss: 1.4864... Val Loss: 1.4056\n",
            "Epoch: 10/20... Step: 1380... Loss: 1.5077... Val Loss: 1.4014\n",
            "Epoch: 10/20... Step: 1390... Loss: 1.4666... Val Loss: 1.4002\n",
            "Epoch: 10/20... Step: 1400... Loss: 1.4951... Val Loss: 1.3961\n",
            "Epoch: 10/20... Step: 1410... Loss: 1.5477... Val Loss: 1.3933\n",
            "Epoch: 11/20... Step: 1420... Loss: 1.4670... Val Loss: 1.3935\n",
            "Epoch: 11/20... Step: 1430... Loss: 1.4847... Val Loss: 1.3980\n",
            "Epoch: 11/20... Step: 1440... Loss: 1.4709... Val Loss: 1.3872\n",
            "Epoch: 11/20... Step: 1450... Loss: 1.4615... Val Loss: 1.3859\n",
            "Epoch: 11/20... Step: 1460... Loss: 1.4699... Val Loss: 1.3816\n",
            "Epoch: 11/20... Step: 1470... Loss: 1.4223... Val Loss: 1.3793\n",
            "Epoch: 11/20... Step: 1480... Loss: 1.5087... Val Loss: 1.3778\n",
            "Epoch: 11/20... Step: 1490... Loss: 1.4333... Val Loss: 1.3764\n",
            "Epoch: 11/20... Step: 1500... Loss: 1.4500... Val Loss: 1.3710\n",
            "Epoch: 11/20... Step: 1510... Loss: 1.4434... Val Loss: 1.3669\n",
            "Epoch: 11/20... Step: 1520... Loss: 1.4252... Val Loss: 1.3682\n",
            "Epoch: 11/20... Step: 1530... Loss: 1.4366... Val Loss: 1.3621\n",
            "Epoch: 11/20... Step: 1540... Loss: 1.4420... Val Loss: 1.3590\n",
            "Epoch: 11/20... Step: 1550... Loss: 1.4593... Val Loss: 1.3626\n",
            "Epoch: 12/20... Step: 1560... Loss: 1.4456... Val Loss: 1.3629\n",
            "Epoch: 12/20... Step: 1570... Loss: 1.4250... Val Loss: 1.3544\n",
            "Epoch: 12/20... Step: 1580... Loss: 1.4428... Val Loss: 1.3520\n",
            "Epoch: 12/20... Step: 1590... Loss: 1.3964... Val Loss: 1.3483\n",
            "Epoch: 12/20... Step: 1600... Loss: 1.4218... Val Loss: 1.3493\n",
            "Epoch: 12/20... Step: 1610... Loss: 1.4134... Val Loss: 1.3449\n",
            "Epoch: 12/20... Step: 1620... Loss: 1.4062... Val Loss: 1.3409\n",
            "Epoch: 12/20... Step: 1630... Loss: 1.4441... Val Loss: 1.3449\n",
            "Epoch: 12/20... Step: 1640... Loss: 1.4128... Val Loss: 1.3420\n",
            "Epoch: 12/20... Step: 1650... Loss: 1.4037... Val Loss: 1.3401\n",
            "Epoch: 12/20... Step: 1660... Loss: 1.4165... Val Loss: 1.3408\n",
            "Epoch: 12/20... Step: 1670... Loss: 1.4331... Val Loss: 1.3316\n",
            "Epoch: 12/20... Step: 1680... Loss: 1.4022... Val Loss: 1.3313\n",
            "Epoch: 12/20... Step: 1690... Loss: 1.4136... Val Loss: 1.3316\n",
            "Epoch: 13/20... Step: 1700... Loss: 1.3729... Val Loss: 1.3279\n",
            "Epoch: 13/20... Step: 1710... Loss: 1.4353... Val Loss: 1.3281\n",
            "Epoch: 13/20... Step: 1720... Loss: 1.4094... Val Loss: 1.3244\n",
            "Epoch: 13/20... Step: 1730... Loss: 1.4354... Val Loss: 1.3203\n",
            "Epoch: 13/20... Step: 1740... Loss: 1.4155... Val Loss: 1.3206\n",
            "Epoch: 13/20... Step: 1750... Loss: 1.4146... Val Loss: 1.3202\n",
            "Epoch: 13/20... Step: 1760... Loss: 1.3966... Val Loss: 1.3168\n",
            "Epoch: 13/20... Step: 1770... Loss: 1.3803... Val Loss: 1.3166\n",
            "Epoch: 13/20... Step: 1780... Loss: 1.3938... Val Loss: 1.3184\n",
            "Epoch: 13/20... Step: 1790... Loss: 1.4011... Val Loss: 1.3190\n",
            "Epoch: 13/20... Step: 1800... Loss: 1.3968... Val Loss: 1.3064\n",
            "Epoch: 13/20... Step: 1810... Loss: 1.4003... Val Loss: 1.3076\n",
            "Epoch: 13/20... Step: 1820... Loss: 1.3747... Val Loss: 1.3065\n",
            "Epoch: 13/20... Step: 1830... Loss: 1.3859... Val Loss: 1.3045\n",
            "Epoch: 14/20... Step: 1840... Loss: 1.3597... Val Loss: 1.3082\n",
            "Epoch: 14/20... Step: 1850... Loss: 1.3470... Val Loss: 1.3054\n",
            "Epoch: 14/20... Step: 1860... Loss: 1.3459... Val Loss: 1.3024\n",
            "Epoch: 14/20... Step: 1870... Loss: 1.3822... Val Loss: 1.2988\n",
            "Epoch: 14/20... Step: 1880... Loss: 1.3819... Val Loss: 1.2973\n",
            "Epoch: 14/20... Step: 1890... Loss: 1.3587... Val Loss: 1.2949\n",
            "Epoch: 14/20... Step: 1900... Loss: 1.3799... Val Loss: 1.2930\n",
            "Epoch: 14/20... Step: 1910... Loss: 1.3520... Val Loss: 1.2922\n",
            "Epoch: 14/20... Step: 1920... Loss: 1.3424... Val Loss: 1.2930\n",
            "Epoch: 14/20... Step: 1930... Loss: 1.3314... Val Loss: 1.2926\n",
            "Epoch: 14/20... Step: 1940... Loss: 1.3495... Val Loss: 1.2883\n",
            "Epoch: 14/20... Step: 1950... Loss: 1.4004... Val Loss: 1.2866\n",
            "Epoch: 14/20... Step: 1960... Loss: 1.3774... Val Loss: 1.2868\n",
            "Epoch: 14/20... Step: 1970... Loss: 1.3481... Val Loss: 1.2863\n",
            "Epoch: 15/20... Step: 1980... Loss: 1.3717... Val Loss: 1.2917\n",
            "Epoch: 15/20... Step: 1990... Loss: 1.3477... Val Loss: 1.2868\n",
            "Epoch: 15/20... Step: 2000... Loss: 1.3620... Val Loss: 1.2845\n",
            "Epoch: 15/20... Step: 2010... Loss: 1.3682... Val Loss: 1.2804\n",
            "Epoch: 15/20... Step: 2020... Loss: 1.3848... Val Loss: 1.2793\n",
            "Epoch: 15/20... Step: 2030... Loss: 1.3131... Val Loss: 1.2799\n",
            "Epoch: 15/20... Step: 2040... Loss: 1.3052... Val Loss: 1.2743\n",
            "Epoch: 15/20... Step: 2050... Loss: 1.3485... Val Loss: 1.2767\n",
            "Epoch: 15/20... Step: 2060... Loss: 1.3573... Val Loss: 1.2745\n",
            "Epoch: 15/20... Step: 2070... Loss: 1.3153... Val Loss: 1.2743\n",
            "Epoch: 15/20... Step: 2080... Loss: 1.3417... Val Loss: 1.2751\n",
            "Epoch: 15/20... Step: 2090... Loss: 1.3687... Val Loss: 1.2677\n",
            "Epoch: 15/20... Step: 2100... Loss: 1.3267... Val Loss: 1.2674\n",
            "Epoch: 15/20... Step: 2110... Loss: 1.3492... Val Loss: 1.2668\n",
            "Epoch: 16/20... Step: 2120... Loss: 1.3162... Val Loss: 1.2740\n",
            "Epoch: 16/20... Step: 2130... Loss: 1.3146... Val Loss: 1.2680\n",
            "Epoch: 16/20... Step: 2140... Loss: 1.3332... Val Loss: 1.2651\n",
            "Epoch: 16/20... Step: 2150... Loss: 1.3295... Val Loss: 1.2625\n",
            "Epoch: 16/20... Step: 2160... Loss: 1.2933... Val Loss: 1.2627\n",
            "Epoch: 16/20... Step: 2170... Loss: 1.3157... Val Loss: 1.2595\n",
            "Epoch: 16/20... Step: 2180... Loss: 1.3087... Val Loss: 1.2583\n",
            "Epoch: 16/20... Step: 2190... Loss: 1.3513... Val Loss: 1.2595\n",
            "Epoch: 16/20... Step: 2200... Loss: 1.3213... Val Loss: 1.2590\n",
            "Epoch: 16/20... Step: 2210... Loss: 1.3066... Val Loss: 1.2562\n",
            "Epoch: 16/20... Step: 2220... Loss: 1.3334... Val Loss: 1.2558\n",
            "Epoch: 16/20... Step: 2230... Loss: 1.3058... Val Loss: 1.2519\n",
            "Epoch: 16/20... Step: 2240... Loss: 1.3349... Val Loss: 1.2507\n",
            "Epoch: 16/20... Step: 2250... Loss: 1.2879... Val Loss: 1.2493\n",
            "Epoch: 17/20... Step: 2260... Loss: 1.2773... Val Loss: 1.2594\n",
            "Epoch: 17/20... Step: 2270... Loss: 1.3330... Val Loss: 1.2531\n",
            "Epoch: 17/20... Step: 2280... Loss: 1.3131... Val Loss: 1.2495\n",
            "Epoch: 17/20... Step: 2290... Loss: 1.3230... Val Loss: 1.2470\n",
            "Epoch: 17/20... Step: 2300... Loss: 1.3038... Val Loss: 1.2469\n",
            "Epoch: 17/20... Step: 2310... Loss: 1.2967... Val Loss: 1.2471\n",
            "Epoch: 17/20... Step: 2320... Loss: 1.2695... Val Loss: 1.2437\n",
            "Epoch: 17/20... Step: 2330... Loss: 1.2967... Val Loss: 1.2442\n",
            "Epoch: 17/20... Step: 2340... Loss: 1.3072... Val Loss: 1.2445\n",
            "Epoch: 17/20... Step: 2350... Loss: 1.3186... Val Loss: 1.2445\n",
            "Epoch: 17/20... Step: 2360... Loss: 1.2864... Val Loss: 1.2438\n",
            "Epoch: 17/20... Step: 2370... Loss: 1.2906... Val Loss: 1.2409\n",
            "Epoch: 17/20... Step: 2380... Loss: 1.2650... Val Loss: 1.2395\n",
            "Epoch: 17/20... Step: 2390... Loss: 1.2866... Val Loss: 1.2391\n",
            "Epoch: 18/20... Step: 2400... Loss: 1.3178... Val Loss: 1.2374\n",
            "Epoch: 18/20... Step: 2410... Loss: 1.2934... Val Loss: 1.2415\n",
            "Epoch: 18/20... Step: 2420... Loss: 1.3130... Val Loss: 1.2367\n",
            "Epoch: 18/20... Step: 2430... Loss: 1.2819... Val Loss: 1.2369\n",
            "Epoch: 18/20... Step: 2440... Loss: 1.2895... Val Loss: 1.2352\n",
            "Epoch: 18/20... Step: 2450... Loss: 1.2930... Val Loss: 1.2332\n",
            "Epoch: 18/20... Step: 2460... Loss: 1.2523... Val Loss: 1.2312\n",
            "Epoch: 18/20... Step: 2470... Loss: 1.2635... Val Loss: 1.2298\n",
            "Epoch: 18/20... Step: 2480... Loss: 1.2771... Val Loss: 1.2312\n",
            "Epoch: 18/20... Step: 2490... Loss: 1.2691... Val Loss: 1.2327\n",
            "Epoch: 18/20... Step: 2500... Loss: 1.2798... Val Loss: 1.2292\n",
            "Epoch: 18/20... Step: 2510... Loss: 1.2770... Val Loss: 1.2319\n",
            "Epoch: 18/20... Step: 2520... Loss: 1.2605... Val Loss: 1.2256\n",
            "Epoch: 18/20... Step: 2530... Loss: 1.2917... Val Loss: 1.2271\n",
            "Epoch: 19/20... Step: 2540... Loss: 1.3234... Val Loss: 1.2273\n",
            "Epoch: 19/20... Step: 2550... Loss: 1.2935... Val Loss: 1.2311\n",
            "Epoch: 19/20... Step: 2560... Loss: 1.2659... Val Loss: 1.2281\n",
            "Epoch: 19/20... Step: 2570... Loss: 1.3037... Val Loss: 1.2260\n",
            "Epoch: 19/20... Step: 2580... Loss: 1.2890... Val Loss: 1.2235\n",
            "Epoch: 19/20... Step: 2590... Loss: 1.2518... Val Loss: 1.2218\n",
            "Epoch: 19/20... Step: 2600... Loss: 1.2527... Val Loss: 1.2259\n",
            "Epoch: 19/20... Step: 2610... Loss: 1.2660... Val Loss: 1.2200\n",
            "Epoch: 19/20... Step: 2620... Loss: 1.2412... Val Loss: 1.2203\n",
            "Epoch: 19/20... Step: 2630... Loss: 1.2636... Val Loss: 1.2191\n",
            "Epoch: 19/20... Step: 2640... Loss: 1.2921... Val Loss: 1.2193\n",
            "Epoch: 19/20... Step: 2650... Loss: 1.2701... Val Loss: 1.2202\n",
            "Epoch: 19/20... Step: 2660... Loss: 1.2783... Val Loss: 1.2187\n",
            "Epoch: 19/20... Step: 2670... Loss: 1.2374... Val Loss: 1.2180\n",
            "Epoch: 20/20... Step: 2680... Loss: 1.3769... Val Loss: 1.2155\n",
            "Epoch: 20/20... Step: 2690... Loss: 1.2401... Val Loss: 1.2161\n",
            "Epoch: 20/20... Step: 2700... Loss: 1.2693... Val Loss: 1.2159\n",
            "Epoch: 20/20... Step: 2710... Loss: 1.2741... Val Loss: 1.2130\n",
            "Epoch: 20/20... Step: 2720... Loss: 1.2689... Val Loss: 1.2173\n",
            "Epoch: 20/20... Step: 2730... Loss: 1.2601... Val Loss: 1.2140\n",
            "Epoch: 20/20... Step: 2740... Loss: 1.2479... Val Loss: 1.2123\n",
            "Epoch: 20/20... Step: 2750... Loss: 1.2602... Val Loss: 1.2100\n",
            "Epoch: 20/20... Step: 2760... Loss: 1.2630... Val Loss: 1.2109\n",
            "Epoch: 20/20... Step: 2770... Loss: 1.2511... Val Loss: 1.2118\n",
            "Epoch: 20/20... Step: 2780... Loss: 1.2458... Val Loss: 1.2090\n",
            "Epoch: 20/20... Step: 2790... Loss: 1.2691... Val Loss: 1.2089\n",
            "Epoch: 20/20... Step: 2800... Loss: 1.2165... Val Loss: 1.2096\n",
            "Epoch: 20/20... Step: 2810... Loss: 1.2457... Val Loss: 1.2100\n",
            "Epoch: 20/20... Step: 2820... Loss: 1.3237... Val Loss: 1.2083\n"
          ],
          "name": "stdout"
        }
      ]
    },
    {
      "metadata": {
        "id": "jg67NYv9K7H3",
        "colab_type": "text"
      },
      "cell_type": "markdown",
      "source": [
        "## Getting the best model\n",
        "\n",
        "To set your hyperparameters to get the best performance, you'll want to watch the training and validation losses. If your training loss is much lower than the validation loss, you're overfitting. Increase regularization (more dropout) or use a smaller network. If the training and validation losses are close, you're underfitting so you can increase the size of the network."
      ]
    },
    {
      "metadata": {
        "id": "r9e1oAW_K7H4",
        "colab_type": "text"
      },
      "cell_type": "markdown",
      "source": [
        "## Hyperparameters\n",
        "\n",
        "Here are the hyperparameters for the network.\n",
        "\n",
        "In defining the model:\n",
        "* `n_hidden` - The number of units in the hidden layers.\n",
        "* `n_layers` - Number of hidden LSTM layers to use.\n",
        "\n",
        "We assume that dropout probability and learning rate will be kept at the default, in this example.\n",
        "\n",
        "And in training:\n",
        "* `batch_size` - Number of sequences running through the network in one pass.\n",
        "* `seq_length` - Number of characters in the sequence the network is trained on. Larger is better typically, the network will learn more long range dependencies. But it takes longer to train. 100 is typically a good number here.\n",
        "* `lr` - Learning rate for training\n",
        "\n",
        "Here's some good advice from Andrej Karpathy on training the network. I'm going to copy it in here for your benefit, but also link to [where it originally came from](https://github.com/karpathy/char-rnn#tips-and-tricks).\n",
        "\n",
        "> ## Tips and Tricks\n",
        "\n",
        ">### Monitoring Validation Loss vs. Training Loss\n",
        ">If you're somewhat new to Machine Learning or Neural Networks it can take a bit of expertise to get good models. The most important quantity to keep track of is the difference between your training loss (printed during training) and the validation loss (printed once in a while when the RNN is run on the validation data (by default every 1000 iterations)). In particular:\n",
        "\n",
        "> - If your training loss is much lower than validation loss then this means the network might be **overfitting**. Solutions to this are to decrease your network size, or to increase dropout. For example you could try dropout of 0.5 and so on.\n",
        "> - If your training/validation loss are about equal then your model is **underfitting**. Increase the size of your model (either number of layers or the raw number of neurons per layer)\n",
        "\n",
        "> ### Approximate number of parameters\n",
        "\n",
        "> The two most important parameters that control the model are `n_hidden` and `n_layers`. I would advise that you always use `n_layers` of either 2/3. The `n_hidden` can be adjusted based on how much data you have. The two important quantities to keep track of here are:\n",
        "\n",
        "> - The number of parameters in your model. This is printed when you start training.\n",
        "> - The size of your dataset. 1MB file is approximately 1 million characters.\n",
        "\n",
        ">These two should be about the same order of magnitude. It's a little tricky to tell. Here are some examples:\n",
        "\n",
        "> - I have a 100MB dataset and I'm using the default parameter settings (which currently print 150K parameters). My data size is significantly larger (100 mil >> 0.15 mil), so I expect to heavily underfit. I am thinking I can comfortably afford to make `n_hidden` larger.\n",
        "> - I have a 10MB dataset and running a 10 million parameter model. I'm slightly nervous and I'm carefully monitoring my validation loss. If it's larger than my training loss then I may want to try to increase dropout a bit and see if that helps the validation loss.\n",
        "\n",
        "> ### Best models strategy\n",
        "\n",
        ">The winning strategy to obtaining very good models (if you have the compute time) is to always err on making the network larger (as large as you're willing to wait for it to compute) and then try different dropout values (between 0,1). Whatever model has the best validation performance (the loss, written in the checkpoint filename, low is good) is the one you should use in the end.\n",
        "\n",
        ">It is very common in deep learning to run many different models with many different hyperparameter settings, and in the end take whatever checkpoint gave the best validation performance.\n",
        "\n",
        ">By the way, the size of your training and validation splits are also parameters. Make sure you have a decent amount of data in your validation set or otherwise the validation performance will be noisy and not very informative."
      ]
    },
    {
      "metadata": {
        "id": "DXeB9vH4K7H6",
        "colab_type": "text"
      },
      "cell_type": "markdown",
      "source": [
        "## Checkpoint\n",
        "\n",
        "After training, we'll save the model so we can load it again later if we need too. Here I'm saving the parameters needed to create the same architecture, the hidden layer hyperparameters and the text characters."
      ]
    },
    {
      "metadata": {
        "id": "RQexDONUK7H7",
        "colab_type": "code",
        "colab": {}
      },
      "cell_type": "code",
      "source": [
        "# change the name, for saving multiple files\n",
        "model_name = 'rnn_x_epoch.net'\n",
        "\n",
        "checkpoint = {'n_hidden': net.n_hidden,\n",
        "              'n_layers': net.n_layers,\n",
        "              'state_dict': net.state_dict(),\n",
        "              'tokens': net.chars}\n",
        "\n",
        "with open(model_name, 'wb') as f:\n",
        "    torch.save(checkpoint, f)"
      ],
      "execution_count": 0,
      "outputs": []
    },
    {
      "metadata": {
        "id": "lp_my66ZK7IB",
        "colab_type": "text"
      },
      "cell_type": "markdown",
      "source": [
        "---\n",
        "## Making Predictions\n",
        "\n",
        "Now that the model is trained, we'll want to sample from it and make predictions about next characters! To sample, we pass in a character and have the network predict the next character. Then we take that character, pass it back in, and get another predicted character. Just keep doing this and you'll generate a bunch of text!\n",
        "\n",
        "### A note on the `predict`  function\n",
        "\n",
        "The output of our RNN is from a fully-connected layer and it outputs a **distribution of next-character scores**.\n",
        "\n",
        "> To actually get the next character, we apply a softmax function, which gives us a *probability* distribution that we can then sample to predict the next character.\n",
        "\n",
        "### Top K sampling\n",
        "\n",
        "Our predictions come from a categorical probability distribution over all the possible characters. We can make the sample text and make it more reasonable to handle (with less variables) by only considering some $K$ most probable characters. This will prevent the network from giving us completely absurd characters while allowing it to introduce some noise and randomness into the sampled text. Read more about [topk, here](https://pytorch.org/docs/stable/torch.html#torch.topk).\n"
      ]
    },
    {
      "metadata": {
        "id": "3lGYlwamK7IE",
        "colab_type": "code",
        "colab": {}
      },
      "cell_type": "code",
      "source": [
        "def predict(net, char, h=None, top_k=None):\n",
        "        ''' Given a character, predict the next character.\n",
        "            Returns the predicted character and the hidden state.\n",
        "        '''\n",
        "        \n",
        "        # tensor inputs\n",
        "        x = np.array([[net.char2int[char]]])\n",
        "        x = one_hot_encode(x, len(net.chars))\n",
        "        inputs = torch.from_numpy(x)\n",
        "        \n",
        "        if(train_on_gpu):\n",
        "            inputs = inputs.cuda()\n",
        "        \n",
        "        # detach hidden state from history\n",
        "        h = tuple([each.data for each in h])\n",
        "        # get the output of the model\n",
        "        out, h = net(inputs, h)\n",
        "\n",
        "        # get the character probabilities\n",
        "        p = F.softmax(out, dim=1).data\n",
        "        if(train_on_gpu):\n",
        "            p = p.cpu() # move to cpu\n",
        "        \n",
        "        # get top characters\n",
        "        if top_k is None:\n",
        "            top_ch = np.arange(len(net.chars))\n",
        "        else:\n",
        "            p, top_ch = p.topk(top_k)\n",
        "            top_ch = top_ch.numpy().squeeze()\n",
        "        \n",
        "        # select the likely next character with some element of randomness\n",
        "        p = p.numpy().squeeze()\n",
        "        char = np.random.choice(top_ch, p=p/p.sum())\n",
        "        \n",
        "        # return the encoded value of the predicted char and the hidden state\n",
        "        return net.int2char[char], h"
      ],
      "execution_count": 0,
      "outputs": []
    },
    {
      "metadata": {
        "id": "ABmy2UtCK7IH",
        "colab_type": "text"
      },
      "cell_type": "markdown",
      "source": [
        "### Priming and generating text \n",
        "\n",
        "Typically you'll want to prime the network so you can build up a hidden state. Otherwise the network will start out generating characters at random. In general the first bunch of characters will be a little rough since it hasn't built up a long history of characters to predict from."
      ]
    },
    {
      "metadata": {
        "id": "3RULrwh0K7IJ",
        "colab_type": "code",
        "colab": {}
      },
      "cell_type": "code",
      "source": [
        "def sample(net, size, prime='The', top_k=None):\n",
        "        \n",
        "    if(train_on_gpu):\n",
        "        net.cuda()\n",
        "    else:\n",
        "        net.cpu()\n",
        "    \n",
        "    net.eval() # eval mode\n",
        "    \n",
        "    # First off, run through the prime characters\n",
        "    chars = [ch for ch in prime]\n",
        "    h = net.init_hidden(1)\n",
        "    for ch in prime:\n",
        "        char, h = predict(net, ch, h, top_k=top_k)\n",
        "\n",
        "    chars.append(char)\n",
        "    \n",
        "    # Now pass in the previous character and get a new one\n",
        "    for ii in range(size):\n",
        "        char, h = predict(net, chars[-1], h, top_k=top_k)\n",
        "        chars.append(char)\n",
        "\n",
        "    return ''.join(chars)"
      ],
      "execution_count": 0,
      "outputs": []
    },
    {
      "metadata": {
        "id": "-5R06Ee5K7IO",
        "colab_type": "code",
        "colab": {
          "base_uri": "https://localhost:8080/",
          "height": 374
        },
        "outputId": "0f2dc761-306d-40da-bd75-764e4b224a1f"
      },
      "cell_type": "code",
      "source": [
        "print(sample(net, 1000, prime='Anna', top_k=5))"
      ],
      "execution_count": 32,
      "outputs": [
        {
          "output_type": "stream",
          "text": [
            "Anna said\n",
            "the conversation with the case of him, he saw himself;\n",
            "that he was any side. Here had a sons of door with the\n",
            "same sound and a life in a such, and his bride talking of his\n",
            "bright and stopped. As it was being began to be an\n",
            "tears of society. She could not say that the presents,\n",
            "as talked about the difficult even of them.\n",
            "‘A solly, a strenge work to trouble him, and the servant would\n",
            "not comprehend, and he’s all here. And how my\n",
            "children.... You could not, and he was at the crice in\n",
            "which I could see it, if you will see the picking of the sense\n",
            "and make her at her,’ said Kitty with a smile, and that he had\n",
            "been before in the depirtation of some old sald, the\n",
            "princess she had started out to be a divorce and with the\n",
            "solical clests on the party, he was strengle.\n",
            "‘I shat a spring.’\n",
            "‘No, I’ve thinks, I shall be?’\n",
            "‘I don’t begin her face in the desibe to me.’\n",
            "‘Yes, it’s not something about the chird to have a\n",
            "coming,’ she said to the same and he could not come to say,\n",
            "and sound a man, an\n"
          ],
          "name": "stdout"
        }
      ]
    },
    {
      "metadata": {
        "id": "r-IKHzWfK7IT",
        "colab_type": "text"
      },
      "cell_type": "markdown",
      "source": [
        "## Loading a checkpoint"
      ]
    },
    {
      "metadata": {
        "id": "Gj-ZgY_dK7IV",
        "colab_type": "code",
        "colab": {}
      },
      "cell_type": "code",
      "source": [
        "# Here we have loaded in a model that trained over 20 epochs `rnn_20_epoch.net`\n",
        "with open('rnn_x_epoch.net', 'rb') as f:\n",
        "    checkpoint = torch.load(f)\n",
        "    \n",
        "loaded = CharRNN(checkpoint['tokens'], n_hidden=checkpoint['n_hidden'], n_layers=checkpoint['n_layers'])\n",
        "loaded.load_state_dict(checkpoint['state_dict'])"
      ],
      "execution_count": 0,
      "outputs": []
    },
    {
      "metadata": {
        "id": "N-LxhVYQK7Ia",
        "colab_type": "code",
        "colab": {
          "base_uri": "https://localhost:8080/",
          "height": 799
        },
        "outputId": "f2b48387-5467-4812-9b41-e7e8206dfe03"
      },
      "cell_type": "code",
      "source": [
        "# Sample using a loaded model\n",
        "print(sample(loaded, 2000, top_k=5, prime=\"And Levin said\"))"
      ],
      "execution_count": 34,
      "outputs": [
        {
          "output_type": "stream",
          "text": [
            "And Levin said\n",
            "that so immediately asked her for the chorted in the\n",
            "morny what to do it went to the start.\n",
            "‘Yashng,’ said Anna, smiling.\n",
            "\n",
            "810 of 1759\n",
            "\n",
            "\fAnna Karenina\n",
            "\n",
            "Countess\n",
            "Lidia Ivanovna, the seamer took what he had not\n",
            "began sevenity, and to him so they had the same thing\n",
            "the praces, to be as suddenly they were servine, the maral\n",
            "of a cortane, and she was disapprovingly to him with him.\n",
            "The close house, had seemed her husband and the\n",
            "disheverable. Stepan Arkadyevitch could not stay a signical.\n",
            "‘It’s not all anything about all the simble,’ he whused to\n",
            "helped, had she had been thring. The perfosing sight\n",
            "of the craving, were all her than he would not be too,’\n",
            "‘All at home, was a day.’\n",
            "‘I don’t began to hear her. I’ve been a little art. And if it\n",
            "was sentled thrung the soligar, a docting issive of a met\n",
            "another, but I shall can that the people if all of the\n",
            "province with them.\n",
            "In the same state in the district, as she doesn’t\n",
            "see it at the details of the commis of the comparter\n",
            "and that’s one of the morning, the princess should be\n",
            "not the danger, to set a pryed of the missing with the clear\n",
            "to be a going than the distance, that he had telping the\n",
            "son and with something and had been talking in all\n",
            "words to him.\n",
            "‘I’ve all the morning that’s not alook, and I so men to\n",
            "the doctor of him about the conflection. I was a\n",
            "servoned tonours, but to take it, and I shall come the most\n",
            "pretendeness, that the party of that were to be different.\n",
            "He was a more to day. He went out that this intellice\n",
            "are at the counce, there are to the point to broughte to\n",
            "succees, and all him, saying the sense. His feelings of the\n",
            "driver of the position of the district of the conversation,\n",
            "but how seemed to ge and say that he was the streing\n",
            "of the present and an irest hands at the count into\n",
            "divorce and whenter he could not believe the person in\n",
            "his hands out the conversation.\n",
            "‘Yes, I went on it into sees and dail not back in him.’\n",
            "‘No; this’s a man and any weak and do there. I have\n",
            "stood nights, and thit’s on\n"
          ],
          "name": "stdout"
        }
      ]
    },
    {
      "metadata": {
        "id": "xHaolEqnK7If",
        "colab_type": "code",
        "colab": {}
      },
      "cell_type": "code",
      "source": [
        ""
      ],
      "execution_count": 0,
      "outputs": []
    }
  ]
}